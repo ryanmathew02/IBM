{
    "cells": [
        {
            "metadata": {},
            "cell_type": "markdown",
            "source": "My Jupyter Notebook on IBM Watson Studio"
        },
        {
            "metadata": {},
            "cell_type": "markdown",
            "source": "RYAN MATHEW\nDATA SCIENTIST"
        },
        {
            "metadata": {},
            "cell_type": "markdown",
            "source": "Data scientist helps in understanding the new trends for better prediction of the upcomming future"
        },
        {
            "metadata": {},
            "cell_type": "markdown",
            "source": "## HelloWorld"
        }
    ],
    "metadata": {
        "kernelspec": {
            "name": "python3",
            "display_name": "Python 3.10",
            "language": "python"
        },
        "language_info": {
            "name": "python",
            "version": "3.10.6",
            "mimetype": "text/x-python",
            "codemirror_mode": {
                "name": "ipython",
                "version": 3
            },
            "pygments_lexer": "ipython3",
            "nbconvert_exporter": "python",
            "file_extension": ".py"
        }
    },
    "nbformat": 4,
    "nbformat_minor": 1
}